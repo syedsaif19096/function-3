{
  "nbformat": 4,
  "nbformat_minor": 0,
  "metadata": {
    "colab": {
      "provenance": []
    },
    "kernelspec": {
      "name": "python3",
      "display_name": "Python 3"
    },
    "language_info": {
      "name": "python"
    }
  },
  "cells": [
    {
      "cell_type": "markdown",
      "source": [
        "Q1. What is the difference between a function and a method in Python?\n",
        "- both functions and methods are blocks of reusable code designed to perform specific tasks, but their key difference lies in their association with objects and classes.\n",
        "- 1. Function:\n",
        "A function is a standalone block of code that can be defined and called independently of any object. It takes arguments as input, performs operations, and can optionally return a value"
      ],
      "metadata": {
        "id": "PSV1sluBrXB6"
      }
    },
    {
      "cell_type": "code",
      "source": [
        "def greet(name):\n",
        "    return f\"Hello, {name}!\"\n",
        "\n",
        "message = greet(\"Syed\")\n",
        "print(message)"
      ],
      "metadata": {
        "colab": {
          "base_uri": "https://localhost:8080/"
        },
        "id": "AWfO8gqYv0ZX",
        "outputId": "2213f3c6-4dc2-4d46-e25d-bbb3a037a66c"
      },
      "execution_count": null,
      "outputs": [
        {
          "output_type": "stream",
          "name": "stdout",
          "text": [
            "Hello, Syed!\n"
          ]
        }
      ]
    },
    {
      "cell_type": "markdown",
      "source": [
        "- 2.Method:\n",
        "A method is a function that is defined within a class and is associated with an object (an instance of that class). Methods operate on the data and state of the object they belong to. They are a fundamental concept in object-oriented programming (OOP) and are called using the dot notation on an object"
      ],
      "metadata": {
        "id": "TAGq7R-FwN9B"
      }
    },
    {
      "cell_type": "code",
      "source": [
        "class Dog:\n",
        "    def __init__(self, name):\n",
        "        self.name = name\n",
        "\n",
        "    def bark(self):\n",
        "        return f\"{self.name} says Moti!\"\n",
        "\n",
        "my_dog = Dog(\"Buddy\")\n",
        "print(my_dog.bark())"
      ],
      "metadata": {
        "colab": {
          "base_uri": "https://localhost:8080/"
        },
        "id": "PXFF6Wa1wpxD",
        "outputId": "6253fdad-f589-499e-9fdd-decccea9c0ec"
      },
      "execution_count": null,
      "outputs": [
        {
          "output_type": "stream",
          "name": "stdout",
          "text": [
            "Buddy says Moti!\n"
          ]
        }
      ]
    },
    {
      "cell_type": "markdown",
      "source": [
        "Q2. Explain the concept of function arguments and parameters in Python.\n",
        "- parameters and arguments are distinct but related concepts concerning the input a function receives.\n",
        "- 1.Arguments are the actual values or data passed to the function when it is called. These values are assigned to the corresponding parameters during the function's execution.\n",
        "- 2.Parameters are the variables defined within the parentheses of a function's definition. They act as placeholders for the values that the function is designed to work with. Parameters define the type and number of inputs a function expects."
      ],
      "metadata": {
        "id": "hu5G5VFrw3Mc"
      }
    },
    {
      "cell_type": "code",
      "source": [
        "def greet(name, message):\n",
        "    print(f\"Hello, {name}! {message}\")\n",
        "\n",
        "    greet(\"Alice\", \"Welcome to Python!\")"
      ],
      "metadata": {
        "id": "oEGXJrng4zuJ"
      },
      "execution_count": null,
      "outputs": []
    },
    {
      "cell_type": "markdown",
      "source": [
        "Q3. What are the different ways to define and call a function in Python?\n",
        "- A function in Python is defined using the def keyword, followed by the function name, a pair of parentheses which may contain parameters, and a colon. The function's body is then written on subsequent lines, indented to indicate its scope.\n",
        " - where, To execute the code within a defined function, it must be called. This is done by writing the function's name followed by parentheses, including any required arguments for its parameters.\n"
      ],
      "metadata": {
        "id": "7QgyfeZA5k8x"
      }
    },
    {
      "cell_type": "code",
      "metadata": {
        "outputId": "e81b81ec-aeab-437b-8da2-1de65a5b45c3",
        "colab": {
          "base_uri": "https://localhost:8080/"
        },
        "id": "vBSDCEnA8IVV"
      },
      "source": [
        "# define function\n",
        "def output(parameter1, parameter2):\n",
        "    result = parameter1 + parameter2\n",
        "    return result\n",
        "\n",
        "\n",
        "# call define function\n",
        "output_result = output(5, 10)\n",
        "print(output_result)"
      ],
      "execution_count": null,
      "outputs": [
        {
          "output_type": "stream",
          "name": "stdout",
          "text": [
            "15\n"
          ]
        }
      ]
    },
    {
      "cell_type": "markdown",
      "source": [
        "Q4. What is the purpose of the `return` statement in a Python function?\n",
        "- The return statement in a Python function serves two primary purposes:\n",
        "Exiting the Function: When a return statement is encountered within a function, the function's execution immediately terminates. Control is then passed back to the point in the code where the function was called. Any code written after the return statement within that function will not be executed.\n",
        "Returning a Value: The return statement allows a function to send a value or object back to the caller. This returned value can then be used in the calling code, for example, by assigning it to a variable or using it in an expression. If no value is explicitly specified with the return statement, or if the return statement is omitted entirely, the function implicitly returns None.\n"
      ],
      "metadata": {
        "id": "L790fo1h8TVw"
      }
    },
    {
      "cell_type": "code",
      "source": [
        "def calculate_area(length, width):\n",
        "\n",
        "  area = length * width\n",
        "  return area\n",
        "\n",
        "# Calling the function and storing the returned value\n",
        "rectangle_length = 10\n",
        "rectangle_width = 5\n",
        "calculated_area = calculate_area(rectangle_length, rectangle_width)\n",
        "\n",
        "print(f\"The area of the rectangle is: {calculated_area}\")"
      ],
      "metadata": {
        "colab": {
          "base_uri": "https://localhost:8080/"
        },
        "id": "lqMJcw8z_OoZ",
        "outputId": "114f9069-4352-437c-f8de-d371114fe430"
      },
      "execution_count": null,
      "outputs": [
        {
          "output_type": "stream",
          "name": "stdout",
          "text": [
            "The area of the rectangle is: 50\n"
          ]
        }
      ]
    },
    {
      "cell_type": "markdown",
      "source": [
        "Q5. What are iterators in Python and how do they differ from iterables?\n",
        "- iterators are objects that represent a stream of data and provide a way to access elements one at a time. They implement the iterator protocol, which means they must define two methods: __iter__() and __next__().\n",
        "- Iterables are objects that can be iterated over, meaning they can return an iterator. Common examples include lists, tuples, strings, and dictionaries. An object is considered iterable if it defines either an __iter__() method (which returns an iterator) or a __getitem__() method (which supports indexing)."
      ],
      "metadata": {
        "id": "vtPxjncj_0Ba"
      }
    },
    {
      "cell_type": "code",
      "source": [
        "# This is an iterable\n",
        "my_list = [1, 2, 3]\n",
        "\n",
        "# This creates an iterator from the iterable\n",
        "my_iterator = iter(my_list)"
      ],
      "metadata": {
        "id": "PlR8qWMLGah0"
      },
      "execution_count": null,
      "outputs": []
    },
    {
      "cell_type": "markdown",
      "source": [
        "Q6. Explain the concept of generators in Python and how they are defined.\n",
        " - Generators in Python are a powerful and memory-efficient way to create iterators. Unlike regular functions that return a single value and terminate, generator functions return a generator object, which can produce a sequence of values one at a time, on demand\n",
        " - Generators are defined similarly to regular Python functions, using the def keyword. The key distinguishing feature is the presence of the yield keyword instead of return."
      ],
      "metadata": {
        "id": "F4kqeisSJqq8"
      }
    },
    {
      "cell_type": "code",
      "source": [
        "def count_up_to(n):\n",
        "    i = 0\n",
        "    while i < n:\n",
        "        yield i\n",
        "        i += 1\n",
        "\n",
        "# Using the generator\n",
        "my_generator = count_up_to(5)\n",
        "\n",
        "print(next(my_generator))\n",
        "print(next(my_generator))\n",
        "\n",
        "for num in my_generator:\n",
        "    print(num)"
      ],
      "metadata": {
        "colab": {
          "base_uri": "https://localhost:8080/"
        },
        "id": "piakHnwnLQEJ",
        "outputId": "2242450d-e912-4dc9-dbb6-63cbf70bdfac"
      },
      "execution_count": null,
      "outputs": [
        {
          "output_type": "stream",
          "name": "stdout",
          "text": [
            "0\n",
            "1\n",
            "2\n",
            "3\n",
            "4\n"
          ]
        }
      ]
    },
    {
      "cell_type": "markdown",
      "source": [
        "Q7. What are the advantages of using generators over regular functions?\n",
        " - Generators advantages over regular functions through memory efficiency, lazy evaluation, and the ability to represent infinite sequences. By using the yield keyword to produce values one at a time, generators avoid storing large datasets in memory, making them suitable for large or infinite data streams and enabling more efficient data processing pipelines\n",
        "\n",
        " Q8. What is a lambda function in Python and when is it typically used?\n",
        "  - A lambda function in Python is a small, anonymous function defined using the lambda keyword. Unlike regular functions defined with def, lambda functions are typically used for short, one-time operations and do not require a formal name. They can take any number of arguments but are limited to a single expression, which is evaluated and returned.\n",
        " - Lambda functions are commonly used in situations where a small, simple function is needed temporarily, often as an argument to higher-order functions. with higher-order functions.\n",
        "\n",
        " Q10. What is the difference between `map()`, `reduce()`, and `filter()` functions in Python?\n",
        "  - The map(), filter() and reduce() functions bring a bit of functional programming to Python. All three of these are convenience functions that can be replaced with List Comprehensions or loops.\n",
        "  - map(function, iterable):\n",
        "Applies a given function to each item in an iterable and returns an iterator that yields the results. It transforms each element individually.\n",
        " - filter(function, iterable):\n",
        "Constructs an iterator from elements of an iterable for which the function returns True. It selectively includes elements based on a condition.\n",
        " - reduce(function, iterable[, initializer]):\n",
        "Applies a function of two arguments cumulatively to the items of an iterable, from left to right, so as to reduce the iterable to a single value. It combines all elements into a single result.\n",
        "  "
      ],
      "metadata": {
        "id": "bElIrTTxLjmu"
      }
    },
    {
      "cell_type": "markdown",
      "source": [
        "# Practical\n",
        "Q1.Write a Python function that takes a list of numbers as input and returns the sum of all even numbers in the list.\n"
      ],
      "metadata": {
        "id": "NkhfesQmxGGL"
      }
    },
    {
      "cell_type": "code",
      "source": [
        "data_list = [1, 2, 3, 4, 5, 6, 7, 8, 9, 10]\n",
        "result = sum_even_numbers(data_list)\n",
        "print(f\"List: {data_list}\")\n",
        "# Expected sum: 2 + 4 + 6 + 8 + 10 = 30\n",
        "print(f\"Sum of even numbers in List 1: {result}\")\n",
        "\n",
        "print(\"-\" * 20)"
      ],
      "metadata": {
        "colab": {
          "base_uri": "https://localhost:8080/"
        },
        "id": "MtN0_qEoxYqV",
        "outputId": "8b17e574-5942-4931-e65f-606b5b67e4d3"
      },
      "execution_count": 5,
      "outputs": [
        {
          "output_type": "stream",
          "name": "stdout",
          "text": [
            "List: [1, 2, 3, 4, 5, 6, 7, 8, 9, 10]\n",
            "Sum of even numbers in List 1: 30\n",
            "--------------------\n"
          ]
        }
      ]
    },
    {
      "cell_type": "markdown",
      "source": [
        "Q2. Create a Python function that accepts a string and returns the reverse of that string."
      ],
      "metadata": {
        "id": "9KOFUt3pzEDr"
      }
    },
    {
      "cell_type": "code",
      "source": [
        "def reverse_string(s: str) -> str:\n",
        "\n",
        "    return s[::-1]\n",
        "#eg.\n",
        "input_str_1 = \"hello world\"\n",
        "reversed_str_1 = reverse_string(input_str_1)\n",
        "print(f\"Original string 1: '{input_str_1}'\")\n",
        "print(f\"Reversed string 1: '{reversed_str_1}'\")\n",
        "\n",
        "print(\"-\" * 30)"
      ],
      "metadata": {
        "colab": {
          "base_uri": "https://localhost:8080/"
        },
        "id": "NOCXdiqjzG5u",
        "outputId": "4e817515-cf8f-4b27-e46a-27d07146921b"
      },
      "execution_count": 9,
      "outputs": [
        {
          "output_type": "stream",
          "name": "stdout",
          "text": [
            "Original string 1: 'hello world'\n",
            "Reversed string 1: 'dlrow olleh'\n",
            "------------------------------\n"
          ]
        }
      ]
    },
    {
      "cell_type": "markdown",
      "source": [
        "Q3. Implement a Python function that takes a list of integers and returns a new list containing the squares of\n",
        "each number."
      ],
      "metadata": {
        "id": "nVDhbWk4zzer"
      }
    },
    {
      "cell_type": "code",
      "source": [
        "def square_list_elements(numbers: list[int]) -> list[int]:\n",
        "\n",
        "    # Use a list comprehension: [expression for item in iterable]\n",
        "    squared_numbers = [number ** 2 for number in numbers]\n",
        "    return squared_numbers\n",
        "\n",
        "# eg.\n",
        "\n",
        "data_list_1 = [1, 2, 3, 4, 5]\n",
        "result_1 = square_list_elements(data_list_1)\n",
        "print(f\"Original list 1: {data_list_1}\")\n",
        "# Expected result: [1, 4, 9, 16, 25]\n",
        "print(f\"Squared list 1: {result_1}\")\n",
        "\n",
        "print(\"-\" * 30)"
      ],
      "metadata": {
        "colab": {
          "base_uri": "https://localhost:8080/"
        },
        "id": "T9c4pSS71hPZ",
        "outputId": "6cc733f5-d52a-4c9f-f11e-748212eb5788"
      },
      "execution_count": 10,
      "outputs": [
        {
          "output_type": "stream",
          "name": "stdout",
          "text": [
            "Original list 1: [1, 2, 3, 4, 5]\n",
            "Squared list 1: [1, 4, 9, 16, 25]\n",
            "------------------------------\n"
          ]
        }
      ]
    },
    {
      "cell_type": "markdown",
      "source": [
        "Q4. Write a Python function that checks if a given number is prime or not from 1 to 200."
      ],
      "metadata": {
        "id": "wCnVHtqI2ect"
      }
    },
    {
      "cell_type": "code",
      "source": [
        "import math\n",
        "\n",
        "def is_prime(n: int) -> bool:\n",
        "\n",
        "    # 1. Handle edge cases\n",
        "    if n <= 1:\n",
        "        return False\n",
        "    if n == 2:\n",
        "        return True\n",
        "\n",
        "    if n % 2 == 0:\n",
        "        return False\n",
        "\n",
        "\n",
        "    limit = int(math.sqrt(n))\n",
        "    for i in range(3, limit + 1, 2):\n",
        "        if n % i == 0:\n",
        "            return False\n",
        "\n",
        "    return True\n",
        "\n",
        "# eg. (Checking up to 200) ---\n",
        "\n",
        "print(\"Checking prime status for numbers from 1 to 200:\")\n",
        "print(\"-\" * 50)\n",
        "\n",
        "# Create a list of all prime numbers in the range 1 to 200\n",
        "prime_numbers = []\n",
        "for number in range(1, 201):\n",
        "    if is_prime(number):\n",
        "        prime_numbers.append(number)\n",
        "\n",
        "print(f\"Total primes found: {len(prime_numbers)}\")\n",
        "print(\"List of prime numbers (1-200):\")\n",
        "\n",
        "# Print the list in a nicely formatted, five-column layout\n",
        "count = 0\n",
        "for prime in prime_numbers:\n",
        "    print(f\"{prime:4}\", end=\" \")\n",
        "    count += 1\n",
        "    if count % 10 == 0:\n",
        "        print() # Newline after every 10 numbers\n",
        "\n",
        "if count % 10 != 0:\n",
        "    print() # Ensure a final newline if the list didn't end on a 10th number\n",
        "print(\"-\" * 50)\n",
        "print(\"Example check:\")\n",
        "print(f\"Is 137 prime? {is_prime(137)}\")\n",
        "print(f\"Is 15 prime? {is_prime(15)}\")"
      ],
      "metadata": {
        "colab": {
          "base_uri": "https://localhost:8080/"
        },
        "id": "FTvf-Pxy3GrV",
        "outputId": "b6bda7ec-23af-48c6-cc0c-603d2f2becf6"
      },
      "execution_count": 11,
      "outputs": [
        {
          "output_type": "stream",
          "name": "stdout",
          "text": [
            "Checking prime status for numbers from 1 to 200:\n",
            "--------------------------------------------------\n",
            "Total primes found: 46\n",
            "List of prime numbers (1-200):\n",
            "   2    3    5    7   11   13   17   19   23   29 \n",
            "  31   37   41   43   47   53   59   61   67   71 \n",
            "  73   79   83   89   97  101  103  107  109  113 \n",
            " 127  131  137  139  149  151  157  163  167  173 \n",
            " 179  181  191  193  197  199 \n",
            "--------------------------------------------------\n",
            "Example check:\n",
            "Is 137 prime? True\n",
            "Is 15 prime? False\n"
          ]
        }
      ]
    },
    {
      "cell_type": "markdown",
      "source": [
        "Q5. Create an iterator class in Python that generates the Fibonacci sequence up to a specified number of terms.\n",
        "\n"
      ],
      "metadata": {
        "id": "EYUhZkTT3lrm"
      }
    },
    {
      "cell_type": "code",
      "source": [
        "class FibonacciSequence:\n",
        "\n",
        "    def __init__(self, max_terms: int):\n",
        "\n",
        "        if max_terms <= 0:\n",
        "            raise ValueError(\"The number of terms must be a positive integer.\")\n",
        "\n",
        "        self.max_terms = max_terms\n",
        "        self.count = 0\n",
        "        self.a = 0  # Current Fibonacci number (F(n))\n",
        "        self.b = 1  # Next Fibonacci number (F(n+1))\n",
        "\n",
        "    def __iter__(self):\n",
        "        \"\"\"Returns the iterator object itself.\"\"\"\n",
        "        return self\n",
        "\n",
        "    def __next__(self) -> int:\n",
        "\n",
        "        # Check the termination condition\n",
        "        if self.count >= self.max_terms:\n",
        "            raise StopIteration\n",
        "\n",
        "        # 1. Store the current Fibonacci number (F(n)) to be returned\n",
        "        result = self.a\n",
        "\n",
        "        # 2. Update the state for the next call:\n",
        "        #    The new 'a' (F(n)) becomes the old 'b' (F(n+1))\n",
        "        #    The new 'b' (F(n+1)) becomes the sum of the old 'a' and 'b' (F(n) + F(n+1))\n",
        "        self.a, self.b = self.b, self.a + self.b\n",
        "\n",
        "        # 3. Increment the term counter\n",
        "        self.count += 1\n",
        "\n",
        "        return result\n",
        "\n",
        "# eg\n",
        "\n",
        "print(\"--- Generating the first 10 Fibonacci terms ---\")\n",
        "fib_10 = FibonacciSequence(max_terms=10)\n",
        "\n",
        "# We can use the iterator directly in a for loop\n",
        "for term in fib_10:\n",
        "    print(term, end=\" \")\n",
        "# Expected output: 0 1 1 2 3 5 8 13 21 34\n",
        "print(\"\\n\")"
      ],
      "metadata": {
        "colab": {
          "base_uri": "https://localhost:8080/"
        },
        "id": "ncOyFNw44Z5K",
        "outputId": "2fa6b840-c354-4529-9382-95c139d11481"
      },
      "execution_count": 13,
      "outputs": [
        {
          "output_type": "stream",
          "name": "stdout",
          "text": [
            "--- Generating the first 10 Fibonacci terms ---\n",
            "0 1 1 2 3 5 8 13 21 34 \n",
            "\n"
          ]
        }
      ]
    },
    {
      "cell_type": "markdown",
      "source": [
        "Q6. Write a generator function in Python that yields the powers of 2 up to a given exponent."
      ],
      "metadata": {
        "id": "9OnDHofk5F8E"
      }
    },
    {
      "cell_type": "code",
      "source": [
        "def powers_of_two(max_exponent):\n",
        "\n",
        "    if not isinstance(max_exponent, int) or max_exponent < 0:\n",
        "        raise ValueError(\"max_exponent must be a non-negative integer.\")\n",
        "\n",
        "    for exponent in range(max_exponent + 1):\n",
        "        yield 2 ** exponent\n",
        "\n",
        "# Eg\n",
        "if __name__ == \"__main__\":\n",
        "    # Generate powers of 2 up to the 5th power\n",
        "    for power in powers_of_two(5):\n",
        "        print(power)\n",
        "\n",
        "    print(\"\\n---\")\n",
        "\n",
        "    # Generate powers of 2 up to the 0th power\n",
        "    for power in powers_of_two(0):\n",
        "        print(power)\n",
        "\n",
        "    print(\"\\n---\")\n",
        "\n",
        "    # Using with a large exponent (demonstrates generator efficiency)\n",
        "    powers_gen = powers_of_two(10)\n",
        "    print(f\"First power: {next(powers_gen)}\")\n",
        "    print(f\"Second power: {next(powers_gen)}\")"
      ],
      "metadata": {
        "colab": {
          "base_uri": "https://localhost:8080/"
        },
        "id": "8YZ4____58gW",
        "outputId": "6d505e06-8221-49f4-f4d3-f13d6ea431f5"
      },
      "execution_count": 15,
      "outputs": [
        {
          "output_type": "stream",
          "name": "stdout",
          "text": [
            "1\n",
            "2\n",
            "4\n",
            "8\n",
            "16\n",
            "32\n",
            "\n",
            "---\n",
            "1\n",
            "\n",
            "---\n",
            "First power: 1\n",
            "Second power: 2\n"
          ]
        }
      ]
    },
    {
      "cell_type": "markdown",
      "source": [
        "Q8. Use a lambda function in Python to sort a list of tuples based on the second element of each tuple."
      ],
      "metadata": {
        "id": "3UIn-hA66Ka2"
      }
    },
    {
      "cell_type": "code",
      "source": [
        "# The original list of tuples (name, score)\n",
        "data = [\n",
        "    ('Alice', 85),\n",
        "    ('Bob', 92),\n",
        "    ('Charlie', 78),\n",
        "    ('David', 92),\n",
        "    ('Eve', 80)\n",
        "]\n",
        "\n",
        "\n",
        "data.sort(key=lambda x: x[1])\n",
        "\n",
        "print(\"Sorted list (by score):\")\n",
        "print(data)"
      ],
      "metadata": {
        "colab": {
          "base_uri": "https://localhost:8080/"
        },
        "id": "Pfx5FNbB7vsY",
        "outputId": "15743cb7-b74b-4711-8921-e1ef8af6daa1"
      },
      "execution_count": 16,
      "outputs": [
        {
          "output_type": "stream",
          "name": "stdout",
          "text": [
            "Sorted list (by score):\n",
            "[('Charlie', 78), ('Eve', 80), ('Alice', 85), ('Bob', 92), ('David', 92)]\n"
          ]
        }
      ]
    },
    {
      "cell_type": "markdown",
      "source": [],
      "metadata": {
        "id": "qobC716S6NVo"
      }
    }
  ]
}